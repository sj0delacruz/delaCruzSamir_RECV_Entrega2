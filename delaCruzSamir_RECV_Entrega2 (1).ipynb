{
  "nbformat": 4,
  "nbformat_minor": 0,
  "metadata": {
    "colab": {
      "name": "delaCruzSamir_RECV_Entrega2.ipynb",
      "provenance": [],
      "collapsed_sections": [],
      "include_colab_link": true
    },
    "kernelspec": {
      "name": "python3",
      "display_name": "Python 3"
    },
    "language_info": {
      "name": "python"
    }
  },
  "cells": [
    {
      "cell_type": "markdown",
      "metadata": {
        "id": "view-in-github",
        "colab_type": "text"
      },
      "source": [
        "<a href=\"https://colab.research.google.com/github/sj0delacruz/delaCruzSamir_RECV_Entrega2/blob/main/delaCruzSamir_RECV_Entrega2%20(1).ipynb\" target=\"_parent\"><img src=\"https://colab.research.google.com/assets/colab-badge.svg\" alt=\"Open In Colab\"/></a>"
      ]
    },
    {
      "cell_type": "code",
      "metadata": {
        "id": "olglnMJ8Zjne"
      },
      "source": [
        "import matplotlib.pyplot as plt\n",
        "import numpy as np\n",
        "import pandas as pd\n",
        "import seaborn as sns\n",
        "from sklearn.preprocessing import StandardScaler\n",
        "from sklearn.ensemble import RandomForestClassifier\n",
        "from sklearn.model_selection import train_test_split"
      ],
      "execution_count": 1,
      "outputs": []
    },
    {
      "cell_type": "code",
      "metadata": {
        "colab": {
          "base_uri": "https://localhost:8080/",
          "height": 326
        },
        "id": "gr7RP3zEZ_gg",
        "outputId": "cd4be1a4-2d4d-43a5-bda2-813c23132bb1"
      },
      "source": [
        "data = pd.read_csv(\"Cars93.csv\")\n",
        "data.head()"
      ],
      "execution_count": 2,
      "outputs": [
        {
          "output_type": "execute_result",
          "data": {
            "text/html": [
              "<div>\n",
              "<style scoped>\n",
              "    .dataframe tbody tr th:only-of-type {\n",
              "        vertical-align: middle;\n",
              "    }\n",
              "\n",
              "    .dataframe tbody tr th {\n",
              "        vertical-align: top;\n",
              "    }\n",
              "\n",
              "    .dataframe thead th {\n",
              "        text-align: right;\n",
              "    }\n",
              "</style>\n",
              "<table border=\"1\" class=\"dataframe\">\n",
              "  <thead>\n",
              "    <tr style=\"text-align: right;\">\n",
              "      <th></th>\n",
              "      <th>Unnamed: 0</th>\n",
              "      <th>Manufacturer</th>\n",
              "      <th>Model</th>\n",
              "      <th>Type</th>\n",
              "      <th>Min.Price</th>\n",
              "      <th>Price</th>\n",
              "      <th>Max.Price</th>\n",
              "      <th>MPG.city</th>\n",
              "      <th>MPG.highway</th>\n",
              "      <th>AirBags</th>\n",
              "      <th>DriveTrain</th>\n",
              "      <th>Cylinders</th>\n",
              "      <th>EngineSize</th>\n",
              "      <th>Horsepower</th>\n",
              "      <th>RPM</th>\n",
              "      <th>Rev.per.mile</th>\n",
              "      <th>Man.trans.avail</th>\n",
              "      <th>Fuel.tank.capacity</th>\n",
              "      <th>Passengers</th>\n",
              "      <th>Length</th>\n",
              "      <th>Wheelbase</th>\n",
              "      <th>Width</th>\n",
              "      <th>Turn.circle</th>\n",
              "      <th>Rear.seat.room</th>\n",
              "      <th>Luggage.room</th>\n",
              "      <th>Weight</th>\n",
              "      <th>Origin</th>\n",
              "      <th>Make</th>\n",
              "    </tr>\n",
              "  </thead>\n",
              "  <tbody>\n",
              "    <tr>\n",
              "      <th>0</th>\n",
              "      <td>1</td>\n",
              "      <td>Acura</td>\n",
              "      <td>Integra</td>\n",
              "      <td>Small</td>\n",
              "      <td>12.9</td>\n",
              "      <td>15.9</td>\n",
              "      <td>18.8</td>\n",
              "      <td>25</td>\n",
              "      <td>31</td>\n",
              "      <td>None</td>\n",
              "      <td>Front</td>\n",
              "      <td>4</td>\n",
              "      <td>1.8</td>\n",
              "      <td>140</td>\n",
              "      <td>6300</td>\n",
              "      <td>2890</td>\n",
              "      <td>Yes</td>\n",
              "      <td>13.2</td>\n",
              "      <td>5</td>\n",
              "      <td>177</td>\n",
              "      <td>102</td>\n",
              "      <td>68</td>\n",
              "      <td>37</td>\n",
              "      <td>26.5</td>\n",
              "      <td>11.0</td>\n",
              "      <td>2705</td>\n",
              "      <td>non-USA</td>\n",
              "      <td>Acura Integra</td>\n",
              "    </tr>\n",
              "    <tr>\n",
              "      <th>1</th>\n",
              "      <td>2</td>\n",
              "      <td>Acura</td>\n",
              "      <td>Legend</td>\n",
              "      <td>Midsize</td>\n",
              "      <td>29.2</td>\n",
              "      <td>33.9</td>\n",
              "      <td>38.7</td>\n",
              "      <td>18</td>\n",
              "      <td>25</td>\n",
              "      <td>Driver &amp; Passenger</td>\n",
              "      <td>Front</td>\n",
              "      <td>6</td>\n",
              "      <td>3.2</td>\n",
              "      <td>200</td>\n",
              "      <td>5500</td>\n",
              "      <td>2335</td>\n",
              "      <td>Yes</td>\n",
              "      <td>18.0</td>\n",
              "      <td>5</td>\n",
              "      <td>195</td>\n",
              "      <td>115</td>\n",
              "      <td>71</td>\n",
              "      <td>38</td>\n",
              "      <td>30.0</td>\n",
              "      <td>15.0</td>\n",
              "      <td>3560</td>\n",
              "      <td>non-USA</td>\n",
              "      <td>Acura Legend</td>\n",
              "    </tr>\n",
              "    <tr>\n",
              "      <th>2</th>\n",
              "      <td>3</td>\n",
              "      <td>Audi</td>\n",
              "      <td>90</td>\n",
              "      <td>Compact</td>\n",
              "      <td>25.9</td>\n",
              "      <td>29.1</td>\n",
              "      <td>32.3</td>\n",
              "      <td>20</td>\n",
              "      <td>26</td>\n",
              "      <td>Driver only</td>\n",
              "      <td>Front</td>\n",
              "      <td>6</td>\n",
              "      <td>2.8</td>\n",
              "      <td>172</td>\n",
              "      <td>5500</td>\n",
              "      <td>2280</td>\n",
              "      <td>Yes</td>\n",
              "      <td>16.9</td>\n",
              "      <td>5</td>\n",
              "      <td>180</td>\n",
              "      <td>102</td>\n",
              "      <td>67</td>\n",
              "      <td>37</td>\n",
              "      <td>28.0</td>\n",
              "      <td>14.0</td>\n",
              "      <td>3375</td>\n",
              "      <td>non-USA</td>\n",
              "      <td>Audi 90</td>\n",
              "    </tr>\n",
              "    <tr>\n",
              "      <th>3</th>\n",
              "      <td>4</td>\n",
              "      <td>Audi</td>\n",
              "      <td>100</td>\n",
              "      <td>Midsize</td>\n",
              "      <td>30.8</td>\n",
              "      <td>37.7</td>\n",
              "      <td>44.6</td>\n",
              "      <td>19</td>\n",
              "      <td>26</td>\n",
              "      <td>Driver &amp; Passenger</td>\n",
              "      <td>Front</td>\n",
              "      <td>6</td>\n",
              "      <td>2.8</td>\n",
              "      <td>172</td>\n",
              "      <td>5500</td>\n",
              "      <td>2535</td>\n",
              "      <td>Yes</td>\n",
              "      <td>21.1</td>\n",
              "      <td>6</td>\n",
              "      <td>193</td>\n",
              "      <td>106</td>\n",
              "      <td>70</td>\n",
              "      <td>37</td>\n",
              "      <td>31.0</td>\n",
              "      <td>17.0</td>\n",
              "      <td>3405</td>\n",
              "      <td>non-USA</td>\n",
              "      <td>Audi 100</td>\n",
              "    </tr>\n",
              "    <tr>\n",
              "      <th>4</th>\n",
              "      <td>5</td>\n",
              "      <td>BMW</td>\n",
              "      <td>535i</td>\n",
              "      <td>Midsize</td>\n",
              "      <td>23.7</td>\n",
              "      <td>30.0</td>\n",
              "      <td>36.2</td>\n",
              "      <td>22</td>\n",
              "      <td>30</td>\n",
              "      <td>Driver only</td>\n",
              "      <td>Rear</td>\n",
              "      <td>4</td>\n",
              "      <td>3.5</td>\n",
              "      <td>208</td>\n",
              "      <td>5700</td>\n",
              "      <td>2545</td>\n",
              "      <td>Yes</td>\n",
              "      <td>21.1</td>\n",
              "      <td>4</td>\n",
              "      <td>186</td>\n",
              "      <td>109</td>\n",
              "      <td>69</td>\n",
              "      <td>39</td>\n",
              "      <td>27.0</td>\n",
              "      <td>13.0</td>\n",
              "      <td>3640</td>\n",
              "      <td>non-USA</td>\n",
              "      <td>BMW 535i</td>\n",
              "    </tr>\n",
              "  </tbody>\n",
              "</table>\n",
              "</div>"
            ],
            "text/plain": [
              "   Unnamed: 0 Manufacturer    Model  ... Weight   Origin           Make\n",
              "0           1        Acura  Integra  ...   2705  non-USA  Acura Integra\n",
              "1           2        Acura   Legend  ...   3560  non-USA   Acura Legend\n",
              "2           3         Audi       90  ...   3375  non-USA        Audi 90\n",
              "3           4         Audi      100  ...   3405  non-USA       Audi 100\n",
              "4           5          BMW     535i  ...   3640  non-USA       BMW 535i\n",
              "\n",
              "[5 rows x 28 columns]"
            ]
          },
          "metadata": {},
          "execution_count": 2
        }
      ]
    },
    {
      "cell_type": "code",
      "metadata": {
        "id": "7bfRAGaJadJE"
      },
      "source": [
        "data = data.drop(['Unnamed: 0','Min.Price', 'Max.Price'], axis=1)\n",
        "Y = data['Price'].copy()\n",
        "data = data.drop('Price', axis=1)\n",
        "keys = data.keys()"
      ],
      "execution_count": 6,
      "outputs": []
    },
    {
      "cell_type": "code",
      "metadata": {
        "colab": {
          "base_uri": "https://localhost:8080/"
        },
        "id": "CX9GUzNlahOz",
        "outputId": "36e8d4df-2404-4b6a-b72a-8866d6ca85bb"
      },
      "source": [
        "data.isnull().sum()"
      ],
      "execution_count": 7,
      "outputs": [
        {
          "output_type": "execute_result",
          "data": {
            "text/plain": [
              "Manufacturer          0\n",
              "Model                 0\n",
              "Type                  0\n",
              "MPG.city              0\n",
              "MPG.highway           0\n",
              "AirBags               0\n",
              "DriveTrain            0\n",
              "Cylinders             0\n",
              "EngineSize            0\n",
              "Horsepower            0\n",
              "RPM                   0\n",
              "Rev.per.mile          0\n",
              "Man.trans.avail       0\n",
              "Fuel.tank.capacity    0\n",
              "Passengers            0\n",
              "Length                0\n",
              "Wheelbase             0\n",
              "Width                 0\n",
              "Turn.circle           0\n",
              "Rear.seat.room        0\n",
              "Luggage.room          0\n",
              "Weight                0\n",
              "Origin                0\n",
              "Make                  0\n",
              "dtype: int64"
            ]
          },
          "metadata": {},
          "execution_count": 7
        }
      ]
    },
    {
      "cell_type": "code",
      "metadata": {
        "colab": {
          "base_uri": "https://localhost:8080/"
        },
        "id": "y9mA9RzTc6G0",
        "outputId": "9c78b0a8-157c-409b-b2b5-952589f574a7"
      },
      "source": [
        "data['Rear.seat.room'] = data['Rear.seat.room'].fillna(data['Rear.seat.room'].mean())\n",
        "data['Luggage.room'] = data['Luggage.room'].fillna(data['Luggage.room'].mean())\n",
        "data.isnull().sum()"
      ],
      "execution_count": 8,
      "outputs": [
        {
          "output_type": "execute_result",
          "data": {
            "text/plain": [
              "Manufacturer          0\n",
              "Model                 0\n",
              "Type                  0\n",
              "MPG.city              0\n",
              "MPG.highway           0\n",
              "AirBags               0\n",
              "DriveTrain            0\n",
              "Cylinders             0\n",
              "EngineSize            0\n",
              "Horsepower            0\n",
              "RPM                   0\n",
              "Rev.per.mile          0\n",
              "Man.trans.avail       0\n",
              "Fuel.tank.capacity    0\n",
              "Passengers            0\n",
              "Length                0\n",
              "Wheelbase             0\n",
              "Width                 0\n",
              "Turn.circle           0\n",
              "Rear.seat.room        0\n",
              "Luggage.room          0\n",
              "Weight                0\n",
              "Origin                0\n",
              "Make                  0\n",
              "dtype: int64"
            ]
          },
          "metadata": {},
          "execution_count": 8
        }
      ]
    },
    {
      "cell_type": "code",
      "metadata": {
        "colab": {
          "base_uri": "https://localhost:8080/"
        },
        "id": "pd9H8T2LjDv6",
        "outputId": "930a496e-0d82-49fd-cd31-c0a60a82f6d2"
      },
      "source": [
        "types = np.unique(data.dtypes)\n",
        "n_types = types.size\n",
        "keys_for_type = {}\n",
        "for t in types:\n",
        "  ls=[]\n",
        "  for key in keys:\n",
        "    if data[key].dtypes==t:\n",
        "      ls.append(key)\n",
        "  keys_for_type.setdefault(t,ls)\n",
        "keys_for_type"
      ],
      "execution_count": 9,
      "outputs": [
        {
          "output_type": "execute_result",
          "data": {
            "text/plain": [
              "{dtype('int64'): ['MPG.city',\n",
              "  'MPG.highway',\n",
              "  'Horsepower',\n",
              "  'RPM',\n",
              "  'Rev.per.mile',\n",
              "  'Passengers',\n",
              "  'Length',\n",
              "  'Wheelbase',\n",
              "  'Width',\n",
              "  'Turn.circle',\n",
              "  'Weight'],\n",
              " dtype('float64'): ['EngineSize',\n",
              "  'Fuel.tank.capacity',\n",
              "  'Rear.seat.room',\n",
              "  'Luggage.room'],\n",
              " dtype('O'): ['Manufacturer',\n",
              "  'Model',\n",
              "  'Type',\n",
              "  'AirBags',\n",
              "  'DriveTrain',\n",
              "  'Cylinders',\n",
              "  'Man.trans.avail',\n",
              "  'Origin',\n",
              "  'Make']}"
            ]
          },
          "metadata": {},
          "execution_count": 9
        }
      ]
    },
    {
      "cell_type": "code",
      "metadata": {
        "colab": {
          "base_uri": "https://localhost:8080/"
        },
        "id": "dKmjfSA9iHm_",
        "outputId": "630e9d72-1daa-4056-a0d8-1d44cef12fe9"
      },
      "source": [
        "keys_discreet  = keys_for_type[types[0]]\n",
        "n_keys_discreet  = len(keys_discreet )\n",
        "keys_continuous = keys_for_type[types[1]]\n",
        "n_keys_continuous = len(keys_continuous)\n",
        "keys_categorical = keys_for_type[types[2]]\n",
        "n_keys_categorical = len(keys_categorical)\n",
        "n_keys_discreet, n_keys_continuous, n_keys_categorical"
      ],
      "execution_count": 10,
      "outputs": [
        {
          "output_type": "execute_result",
          "data": {
            "text/plain": [
              "(11, 4, 9)"
            ]
          },
          "metadata": {},
          "execution_count": 10
        }
      ]
    },
    {
      "cell_type": "code",
      "metadata": {
        "id": "W_iezDi2wC-y"
      },
      "source": [
        "scaler = StandardScaler()\n",
        "data = pd.concat([data, Y], axis=1)\n",
        "data[keys_continuous+keys_discreet] = scaler.fit_transform(data[keys_continuous+keys_discreet])"
      ],
      "execution_count": 11,
      "outputs": []
    },
    {
      "cell_type": "code",
      "metadata": {
        "colab": {
          "base_uri": "https://localhost:8080/",
          "height": 197
        },
        "id": "jQXFLxpE27Ej",
        "outputId": "c9486366-cdf3-4e45-8259-f46076acc16e"
      },
      "source": [
        "g = sns.pairplot(data, plot_kws=dict(marker=\"+\", linewidth=1), y_vars='Price', x_vars=keys_discreet[:4])"
      ],
      "execution_count": 12,
      "outputs": [
        {
          "output_type": "display_data",
          "data": {
            "image/png": "[encoded data removed]",
            "text/plain": [
              "<Figure size 720x180 with 4 Axes>"
            ]
          },
          "metadata": {
            "needs_background": "light"
          }
        }
      ]
    },
    {
      "cell_type": "code",
      "metadata": {
        "colab": {
          "base_uri": "https://localhost:8080/",
          "height": 197
        },
        "id": "B2_lD9g8BIOt",
        "outputId": "756bf6e1-1428-420c-af59-18037ddf4467"
      },
      "source": [
        "g = sns.pairplot(data, plot_kws=dict(marker=\"+\", linewidth=1), y_vars='Price', x_vars=keys_discreet[4:8])"
      ],
      "execution_count": 13,
      "outputs": [
        {
          "output_type": "display_data",
          "data": {
            "image/png": "[encoded data removed]",
            "text/plain": [
              "<Figure size 720x180 with 4 Axes>"
            ]
          },
          "metadata": {
            "needs_background": "light"
          }
        }
      ]
    },
    {
      "cell_type": "code",
      "metadata": {
        "colab": {
          "base_uri": "https://localhost:8080/",
          "height": 197
        },
        "id": "mEQO81IGBMwB",
        "outputId": "ac5d2e2d-26d1-4645-c5af-96ba1259ab26"
      },
      "source": [
        "g = sns.pairplot(data, plot_kws=dict(marker=\"+\", linewidth=1), y_vars='Price', x_vars=keys_discreet[8:11])"
      ],
      "execution_count": 14,
      "outputs": [
        {
          "output_type": "display_data",
          "data": {
            "image/png": "[encoded data removed]",
            "text/plain": [
              "<Figure size 540x180 with 3 Axes>"
            ]
          },
          "metadata": {
            "needs_background": "light"
          }
        }
      ]
    },
    {
      "cell_type": "code",
      "metadata": {
        "colab": {
          "base_uri": "https://localhost:8080/",
          "height": 197
        },
        "id": "OULIoHH-2b2h",
        "outputId": "8eacf2df-7285-44d1-a63a-28f1836765b8"
      },
      "source": [
        "g = sns.pairplot(data, plot_kws=dict(marker=\"+\", linewidth=1), y_vars='Price', x_vars=keys_continuous)"
      ],
      "execution_count": 15,
      "outputs": [
        {
          "output_type": "display_data",
          "data": {
            "image/png": "[encoded data removed]",
            "text/plain": [
              "<Figure size 720x180 with 4 Axes>"
            ]
          },
          "metadata": {
            "needs_background": "light"
          }
        }
      ]
    },
    {
      "cell_type": "markdown",
      "metadata": {
        "id": "iuCXAIKfegNQ"
      },
      "source": [
        "##Observamos que las variables más importantes pueden ser Horsepower y weight. Segun las graficas."
      ]
    },
    {
      "cell_type": "markdown",
      "metadata": {
        "id": "_kdrkdhQekeh"
      },
      "source": [
        "#Lo converitmos en un problema binario"
      ]
    },
    {
      "cell_type": "code",
      "metadata": {
        "id": "AduL_9qAeqaI"
      },
      "source": [
        "data['Price'] = 1*(data['Price']>( (data['Price'].max()- data['Price'].min())/2 ))"
      ],
      "execution_count": 16,
      "outputs": []
    },
    {
      "cell_type": "code",
      "metadata": {
        "id": "sZWFW0OwescZ",
        "outputId": "594d9878-d9ab-4c55-a3aa-49e0149344bf",
        "colab": {
          "base_uri": "https://localhost:8080/",
          "height": 197
        }
      },
      "source": [
        "g = sns.pairplot(data, plot_kws=dict(marker=\"+\", linewidth=1), y_vars='Price', x_vars=keys_discreet[:4])"
      ],
      "execution_count": 17,
      "outputs": [
        {
          "output_type": "display_data",
          "data": {
            "image/png": "[encoded data removed]",
            "text/plain": [
              "<Figure size 720x180 with 4 Axes>"
            ]
          },
          "metadata": {
            "needs_background": "light"
          }
        }
      ]
    },
    {
      "cell_type": "code",
      "metadata": {
        "id": "xsmZQv2vesZy",
        "outputId": "750cee9c-cb43-40f4-c5bf-3b4b576d6f67",
        "colab": {
          "base_uri": "https://localhost:8080/",
          "height": 197
        }
      },
      "source": [
        "g = sns.pairplot(data, plot_kws=dict(marker=\"+\", linewidth=1), y_vars='Price', x_vars=keys_discreet[4:8])"
      ],
      "execution_count": 18,
      "outputs": [
        {
          "output_type": "display_data",
          "data": {
            "image/png": "[encoded data removed]",
            "text/plain": [
              "<Figure size 720x180 with 4 Axes>"
            ]
          },
          "metadata": {
            "needs_background": "light"
          }
        }
      ]
    },
    {
      "cell_type": "code",
      "metadata": {
        "id": "5O9jLuOvesWn",
        "outputId": "f730344c-cd87-4b9f-a0ae-46a5e7eb935e",
        "colab": {
          "base_uri": "https://localhost:8080/",
          "height": 197
        }
      },
      "source": [
        "g = sns.pairplot(data, plot_kws=dict(marker=\"+\", linewidth=1), y_vars='Price', x_vars=keys_discreet[8:11])"
      ],
      "execution_count": 19,
      "outputs": [
        {
          "output_type": "display_data",
          "data": {
            "image/png": "[encoded data removed]",
            "text/plain": [
              "<Figure size 540x180 with 3 Axes>"
            ]
          },
          "metadata": {
            "needs_background": "light"
          }
        }
      ]
    },
    {
      "cell_type": "code",
      "metadata": {
        "id": "5zOWJl-0esTt",
        "outputId": "327a0017-3625-439c-bc51-899c3b8dbf74",
        "colab": {
          "base_uri": "https://localhost:8080/",
          "height": 197
        }
      },
      "source": [
        "g = sns.pairplot(data, plot_kws=dict(marker=\"+\", linewidth=1), y_vars='Price', x_vars=keys_continuous)"
      ],
      "execution_count": 20,
      "outputs": [
        {
          "output_type": "display_data",
          "data": {
            "image/png": "[encoded data removed]",
            "text/plain": [
              "<Figure size 720x180 with 4 Axes>"
            ]
          },
          "metadata": {
            "needs_background": "light"
          }
        }
      ]
    },
    {
      "cell_type": "markdown",
      "metadata": {
        "id": "G29_-VqQe5ab"
      },
      "source": [
        "##Las dos variables más importantes para predecir el precio de un carro son:\n",
        "\n",
        "\n",
        "1.   Horsepower\n",
        "2.   Weight\n",
        "\n",
        "#Se concluye a partir de las graficas"
      ]
    },
    {
      "cell_type": "code",
      "metadata": {
        "id": "PHwJJlYpesQz",
        "outputId": "fe8d71ea-c203-491f-fb18-2ed88a72e93b",
        "colab": {
          "base_uri": "https://localhost:8080/",
          "height": 282
        }
      },
      "source": [
        "plt.plot(data['Horsepower'].values*data['Weight'].values, data['Price'].values,'+')"
      ],
      "execution_count": 21,
      "outputs": [
        {
          "output_type": "execute_result",
          "data": {
            "text/plain": [
              "[<matplotlib.lines.Line2D at 0x7f345d7009d0>]"
            ]
          },
          "metadata": {},
          "execution_count": 21
        },
        {
          "output_type": "display_data",
          "data": {
            "image/png": "[encoded data removed]",
            "text/plain": [
              "<Figure size 432x288 with 1 Axes>"
            ]
          },
          "metadata": {
            "needs_background": "light"
          }
        }
      ]
    },
    {
      "cell_type": "markdown",
      "metadata": {
        "id": "VMCvw-Q9e-HB"
      },
      "source": [
        "##Vemos que no el producto no muestra una clara correlacion con el precio."
      ]
    },
    {
      "cell_type": "markdown",
      "metadata": {
        "id": "dO81uKiOfL67"
      },
      "source": [
        "#Prueba con el clasificador"
      ]
    },
    {
      "cell_type": "code",
      "metadata": {
        "id": "Js76BYSLiHeN"
      },
      "source": [
        "model = RandomForestClassifier(n_estimators=100, max_depth=10)\n",
        "\n",
        "x_train, x_test, y_train, y_test = train_test_split(data[keys_discreet + keys_continuous].values, data['Price'].values, test_size=0.2, random_state=0)"
      ],
      "execution_count": 22,
      "outputs": []
    },
    {
      "cell_type": "code",
      "metadata": {
        "colab": {
          "base_uri": "https://localhost:8080/"
        },
        "id": "NLh9pdcqHlLb",
        "outputId": "376c16fe-21a5-4b60-8b13-359f05075cc8"
      },
      "source": [
        "model.fit(x_train, y_train)\n",
        "y_pred = model.predict(x_test)\n",
        "acc=sum(y_pred == y_test)/len(y_test)\n",
        "np.array(keys_discreet + keys_continuous)[np.argsort(model.feature_importances_)[::-1]]"
      ],
      "execution_count": 23,
      "outputs": [
        {
          "output_type": "execute_result",
          "data": {
            "text/plain": [
              "array(['Horsepower', 'Weight', 'EngineSize', 'Length', 'Width',\n",
              "       'Fuel.tank.capacity', 'Wheelbase', 'MPG.highway', 'Rear.seat.room',\n",
              "       'MPG.city', 'Turn.circle', 'RPM', 'Rev.per.mile', 'Luggage.room',\n",
              "       'Passengers'], dtype='<U18')"
            ]
          },
          "metadata": {},
          "execution_count": 23
        }
      ]
    },
    {
      "cell_type": "markdown",
      "metadata": {
        "id": "z00sp2v7fV00"
      },
      "source": [
        "#Concluimos, segun el modelo, que las variables más importantes para determinar del precio de un carro son:\n",
        "\n",
        "\n",
        "1.   Horsepower\n",
        "2.   Weight"
      ]
    }
  ]
}